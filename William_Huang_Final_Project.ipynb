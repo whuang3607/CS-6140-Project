{
 "cells": [
  {
   "cell_type": "code",
   "execution_count": 9,
   "id": "b91ced2f-1f52-4be3-ab7e-dd7043ec0c2a",
   "metadata": {},
   "outputs": [],
   "source": [
    "from ucimlrepo import fetch_ucirepo\n",
    "import pandas as pd\n",
    "import numpy as np\n",
    "from sklearn.preprocessing import StandardScaler, MinMaxScaler\n",
    "from sklearn.model_selection import train_test_split"
   ]
  },
  {
   "cell_type": "code",
   "execution_count": 17,
   "id": "83d37c35-df41-4dd8-acdb-77a0289b9771",
   "metadata": {},
   "outputs": [],
   "source": [
    "# fetch dataset\n",
    "breast_cancer_data = fetch_ucirepo(id=17) \n",
    "\n",
    "# data\n",
    "X = breast_cancer_data.data.features.values\n",
    "X_cancer = StandardScaler().fit_transform(X)\n",
    "y_cancer = np.squeeze(breast_cancer_data.data.targets.values)\n",
    "y_cancer[y_cancer == 'M'] = 1\n",
    "y_cancer[y_cancer == 'B'] = -1\n",
    "\n",
    "X_train_cancer, X_test_cancer, y_train_cancer, y_test_cancer = train_test_split(X_cancer, y_cancer, test_size=0.2)"
   ]
  },
  {
   "cell_type": "markdown",
   "id": "3bc8b06a-3928-4690-ac6e-fd1f914a0e21",
   "metadata": {},
   "source": [
    "### Decision Tree"
   ]
  },
  {
   "cell_type": "code",
   "execution_count": null,
   "id": "f6c05432-9d64-40c7-b392-d2ea54a68204",
   "metadata": {},
   "outputs": [],
   "source": []
  },
  {
   "cell_type": "markdown",
   "id": "de70d38a-4def-44fe-bd0b-46994b626eff",
   "metadata": {},
   "source": [
    "### Logistic Regression"
   ]
  },
  {
   "cell_type": "code",
   "execution_count": null,
   "id": "47c354e6-4e31-4124-9ebd-a0e1be6bd174",
   "metadata": {},
   "outputs": [],
   "source": []
  },
  {
   "cell_type": "markdown",
   "id": "d77c31ef-7873-424b-987e-8b04ba787cdb",
   "metadata": {},
   "source": [
    "### Random Forest Classification"
   ]
  },
  {
   "cell_type": "code",
   "execution_count": null,
   "id": "629fe1f9-df90-4c6a-af67-83f3b8c8eb0a",
   "metadata": {},
   "outputs": [],
   "source": []
  },
  {
   "cell_type": "markdown",
   "id": "4ba9f21e-57cf-46b0-a9f0-80651dab949e",
   "metadata": {},
   "source": [
    "### Support Vector Classification (SVC)"
   ]
  },
  {
   "cell_type": "code",
   "execution_count": null,
   "id": "3541e796-7876-4c28-a3a2-9bd054b7c443",
   "metadata": {},
   "outputs": [],
   "source": []
  }
 ],
 "metadata": {
  "kernelspec": {
   "display_name": "Python 3 (ipykernel)",
   "language": "python",
   "name": "python3"
  },
  "language_info": {
   "codemirror_mode": {
    "name": "ipython",
    "version": 3
   },
   "file_extension": ".py",
   "mimetype": "text/x-python",
   "name": "python",
   "nbconvert_exporter": "python",
   "pygments_lexer": "ipython3",
   "version": "3.12.7"
  }
 },
 "nbformat": 4,
 "nbformat_minor": 5
}
